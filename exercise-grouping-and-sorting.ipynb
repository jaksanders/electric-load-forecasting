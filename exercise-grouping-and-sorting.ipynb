{
 "cells": [
  {
   "cell_type": "markdown",
   "id": "d24afbe1",
   "metadata": {
    "papermill": {
     "duration": 0.007027,
     "end_time": "2023-07-25T17:49:59.003847",
     "exception": false,
     "start_time": "2023-07-25T17:49:58.996820",
     "status": "completed"
    },
    "tags": []
   },
   "source": [
    "**This notebook is an exercise in the [Pandas](https://www.kaggle.com/learn/pandas) course.  You can reference the tutorial at [this link](https://www.kaggle.com/residentmario/grouping-and-sorting).**\n",
    "\n",
    "---\n"
   ]
  },
  {
   "cell_type": "markdown",
   "id": "f8d903b9",
   "metadata": {
    "papermill": {
     "duration": 0.00646,
     "end_time": "2023-07-25T17:49:59.017810",
     "exception": false,
     "start_time": "2023-07-25T17:49:59.011350",
     "status": "completed"
    },
    "tags": []
   },
   "source": [
    "# Introduction\n",
    "\n",
    "In these exercises we'll apply groupwise analysis to our dataset.\n",
    "\n",
    "Run the code cell below to load the data before running the exercises."
   ]
  },
  {
   "cell_type": "code",
   "execution_count": 1,
   "id": "07e7c946",
   "metadata": {
    "execution": {
     "iopub.execute_input": "2023-07-25T17:49:59.032771Z",
     "iopub.status.busy": "2023-07-25T17:49:59.032188Z",
     "iopub.status.idle": "2023-07-25T17:50:02.019724Z",
     "shell.execute_reply": "2023-07-25T17:50:02.019022Z"
    },
    "papermill": {
     "duration": 2.997731,
     "end_time": "2023-07-25T17:50:02.022079",
     "exception": false,
     "start_time": "2023-07-25T17:49:59.024348",
     "status": "completed"
    },
    "tags": []
   },
   "outputs": [
    {
     "name": "stdout",
     "output_type": "stream",
     "text": [
      "Setup complete.\n"
     ]
    }
   ],
   "source": [
    "import pandas as pd\n",
    "\n",
    "reviews = pd.read_csv(\"../input/wine-reviews/winemag-data-130k-v2.csv\", index_col=0)\n",
    "#pd.set_option(\"display.max_rows\", 5)\n",
    "\n",
    "from learntools.core import binder; binder.bind(globals())\n",
    "from learntools.pandas.grouping_and_sorting import *\n",
    "print(\"Setup complete.\")"
   ]
  },
  {
   "cell_type": "markdown",
   "id": "a7c1499e",
   "metadata": {
    "papermill": {
     "duration": 0.006512,
     "end_time": "2023-07-25T17:50:02.035956",
     "exception": false,
     "start_time": "2023-07-25T17:50:02.029444",
     "status": "completed"
    },
    "tags": []
   },
   "source": [
    "# Exercises"
   ]
  },
  {
   "cell_type": "markdown",
   "id": "41fc8b5b",
   "metadata": {
    "papermill": {
     "duration": 0.006664,
     "end_time": "2023-07-25T17:50:02.049255",
     "exception": false,
     "start_time": "2023-07-25T17:50:02.042591",
     "status": "completed"
    },
    "tags": []
   },
   "source": [
    "## 1.\n",
    "Who are the most common wine reviewers in the dataset? Create a `Series` whose index is the `taster_twitter_handle` category from the dataset, and whose values count how many reviews each person wrote."
   ]
  },
  {
   "cell_type": "code",
   "execution_count": 2,
   "id": "1209d78a",
   "metadata": {
    "execution": {
     "iopub.execute_input": "2023-07-25T17:50:02.064921Z",
     "iopub.status.busy": "2023-07-25T17:50:02.064305Z",
     "iopub.status.idle": "2023-07-25T17:50:02.097094Z",
     "shell.execute_reply": "2023-07-25T17:50:02.096167Z"
    },
    "papermill": {
     "duration": 0.043182,
     "end_time": "2023-07-25T17:50:02.099091",
     "exception": false,
     "start_time": "2023-07-25T17:50:02.055909",
     "status": "completed"
    },
    "tags": []
   },
   "outputs": [
    {
     "data": {
      "application/javascript": [
       "parent.postMessage({\"jupyterEvent\": \"custom.exercise_interaction\", \"data\": {\"outcomeType\": 1, \"valueTowardsCompletion\": 0.16666666666666666, \"interactionType\": 1, \"questionType\": 1, \"questionId\": \"1_ReviewsWritten\", \"learnToolsVersion\": \"0.3.4\", \"failureMessage\": \"\", \"exceptionClass\": \"\", \"trace\": \"\"}}, \"*\")"
      ],
      "text/plain": [
       "<IPython.core.display.Javascript object>"
      ]
     },
     "metadata": {},
     "output_type": "display_data"
    },
    {
     "data": {
      "text/markdown": [
       "<span style=\"color:#33cc33\">Correct:</span> \n",
       "\n",
       "\n",
       "```python\n",
       "reviews_written = reviews.groupby('taster_twitter_handle').size()\n",
       "```\n",
       "or\n",
       "```python\n",
       "reviews_written = reviews.groupby('taster_twitter_handle').taster_twitter_handle.count()\n",
       "```\n"
      ],
      "text/plain": [
       "Correct: \n",
       "\n",
       "\n",
       "```python\n",
       "reviews_written = reviews.groupby('taster_twitter_handle').size()\n",
       "```\n",
       "or\n",
       "```python\n",
       "reviews_written = reviews.groupby('taster_twitter_handle').taster_twitter_handle.count()\n",
       "```"
      ]
     },
     "metadata": {},
     "output_type": "display_data"
    }
   ],
   "source": [
    "# Your code here\n",
    "reviews_written = reviews.groupby('taster_twitter_handle').points.count()\n",
    "\n",
    "# Check your answer\n",
    "q1.check()"
   ]
  },
  {
   "cell_type": "code",
   "execution_count": 3,
   "id": "95bbff09",
   "metadata": {
    "execution": {
     "iopub.execute_input": "2023-07-25T17:50:02.115857Z",
     "iopub.status.busy": "2023-07-25T17:50:02.115536Z",
     "iopub.status.idle": "2023-07-25T17:50:02.119488Z",
     "shell.execute_reply": "2023-07-25T17:50:02.118460Z"
    },
    "papermill": {
     "duration": 0.014938,
     "end_time": "2023-07-25T17:50:02.121568",
     "exception": false,
     "start_time": "2023-07-25T17:50:02.106630",
     "status": "completed"
    },
    "tags": []
   },
   "outputs": [],
   "source": [
    "#q1.hint()\n",
    "#q1.solution()"
   ]
  },
  {
   "cell_type": "markdown",
   "id": "777f83c3",
   "metadata": {
    "papermill": {
     "duration": 0.008393,
     "end_time": "2023-07-25T17:50:02.137380",
     "exception": false,
     "start_time": "2023-07-25T17:50:02.128987",
     "status": "completed"
    },
    "tags": []
   },
   "source": [
    "## 2.\n",
    "What is the best wine I can buy for a given amount of money? Create a `Series` whose index is wine prices and whose values is the maximum number of points a wine costing that much was given in a review. Sort the values by price, ascending (so that `4.0` dollars is at the top and `3300.0` dollars is at the bottom)."
   ]
  },
  {
   "cell_type": "code",
   "execution_count": 4,
   "id": "c7bf61b6",
   "metadata": {
    "execution": {
     "iopub.execute_input": "2023-07-25T17:50:02.154505Z",
     "iopub.status.busy": "2023-07-25T17:50:02.153802Z",
     "iopub.status.idle": "2023-07-25T17:50:02.167733Z",
     "shell.execute_reply": "2023-07-25T17:50:02.166535Z"
    },
    "papermill": {
     "duration": 0.025221,
     "end_time": "2023-07-25T17:50:02.170144",
     "exception": false,
     "start_time": "2023-07-25T17:50:02.144923",
     "status": "completed"
    },
    "tags": []
   },
   "outputs": [
    {
     "data": {
      "application/javascript": [
       "parent.postMessage({\"jupyterEvent\": \"custom.exercise_interaction\", \"data\": {\"outcomeType\": 1, \"valueTowardsCompletion\": 0.16666666666666666, \"interactionType\": 1, \"questionType\": 1, \"questionId\": \"2_BestRatingPerPrice\", \"learnToolsVersion\": \"0.3.4\", \"failureMessage\": \"\", \"exceptionClass\": \"\", \"trace\": \"\"}}, \"*\")"
      ],
      "text/plain": [
       "<IPython.core.display.Javascript object>"
      ]
     },
     "metadata": {},
     "output_type": "display_data"
    },
    {
     "data": {
      "text/markdown": [
       "<span style=\"color:#33cc33\">Correct</span>"
      ],
      "text/plain": [
       "Correct"
      ]
     },
     "metadata": {},
     "output_type": "display_data"
    }
   ],
   "source": [
    "best_rating_per_price = reviews.groupby('price').points.max()\n",
    "\n",
    "# Check your answer\n",
    "q2.check()"
   ]
  },
  {
   "cell_type": "code",
   "execution_count": null,
   "id": "384e444a",
   "metadata": {
    "papermill": {
     "duration": 0.007547,
     "end_time": "2023-07-25T17:50:02.185353",
     "exception": false,
     "start_time": "2023-07-25T17:50:02.177806",
     "status": "completed"
    },
    "tags": []
   },
   "outputs": [],
   "source": []
  },
  {
   "cell_type": "code",
   "execution_count": 5,
   "id": "408f4385",
   "metadata": {
    "execution": {
     "iopub.execute_input": "2023-07-25T17:50:02.202504Z",
     "iopub.status.busy": "2023-07-25T17:50:02.201574Z",
     "iopub.status.idle": "2023-07-25T17:50:02.205858Z",
     "shell.execute_reply": "2023-07-25T17:50:02.205183Z"
    },
    "papermill": {
     "duration": 0.015053,
     "end_time": "2023-07-25T17:50:02.207878",
     "exception": false,
     "start_time": "2023-07-25T17:50:02.192825",
     "status": "completed"
    },
    "tags": []
   },
   "outputs": [],
   "source": [
    "#q2.hint()\n",
    "#q2.solution()"
   ]
  },
  {
   "cell_type": "markdown",
   "id": "4767cd94",
   "metadata": {
    "papermill": {
     "duration": 0.00761,
     "end_time": "2023-07-25T17:50:02.223343",
     "exception": false,
     "start_time": "2023-07-25T17:50:02.215733",
     "status": "completed"
    },
    "tags": []
   },
   "source": [
    "## 3.\n",
    "What are the minimum and maximum prices for each `variety` of wine? Create a `DataFrame` whose index is the `variety` category from the dataset and whose values are the `min` and `max` values thereof."
   ]
  },
  {
   "cell_type": "code",
   "execution_count": 6,
   "id": "1821d0e9",
   "metadata": {
    "execution": {
     "iopub.execute_input": "2023-07-25T17:50:02.241007Z",
     "iopub.status.busy": "2023-07-25T17:50:02.240373Z",
     "iopub.status.idle": "2023-07-25T17:50:02.279128Z",
     "shell.execute_reply": "2023-07-25T17:50:02.277955Z"
    },
    "papermill": {
     "duration": 0.050386,
     "end_time": "2023-07-25T17:50:02.281588",
     "exception": false,
     "start_time": "2023-07-25T17:50:02.231202",
     "status": "completed"
    },
    "tags": []
   },
   "outputs": [
    {
     "data": {
      "application/javascript": [
       "parent.postMessage({\"jupyterEvent\": \"custom.exercise_interaction\", \"data\": {\"outcomeType\": 1, \"valueTowardsCompletion\": 0.16666666666666666, \"interactionType\": 1, \"questionType\": 1, \"questionId\": \"3_PriceExtremes\", \"learnToolsVersion\": \"0.3.4\", \"failureMessage\": \"\", \"exceptionClass\": \"\", \"trace\": \"\"}}, \"*\")"
      ],
      "text/plain": [
       "<IPython.core.display.Javascript object>"
      ]
     },
     "metadata": {},
     "output_type": "display_data"
    },
    {
     "data": {
      "text/markdown": [
       "<span style=\"color:#33cc33\">Correct</span>"
      ],
      "text/plain": [
       "Correct"
      ]
     },
     "metadata": {},
     "output_type": "display_data"
    }
   ],
   "source": [
    "price_extremes = reviews.groupby(['variety']).price.agg([min, max])\n",
    "\n",
    "# Check your answer\n",
    "q3.check()"
   ]
  },
  {
   "cell_type": "code",
   "execution_count": 7,
   "id": "82749b23",
   "metadata": {
    "execution": {
     "iopub.execute_input": "2023-07-25T17:50:02.298661Z",
     "iopub.status.busy": "2023-07-25T17:50:02.298369Z",
     "iopub.status.idle": "2023-07-25T17:50:02.302355Z",
     "shell.execute_reply": "2023-07-25T17:50:02.301364Z"
    },
    "papermill": {
     "duration": 0.014694,
     "end_time": "2023-07-25T17:50:02.304493",
     "exception": false,
     "start_time": "2023-07-25T17:50:02.289799",
     "status": "completed"
    },
    "tags": []
   },
   "outputs": [],
   "source": [
    "#q3.hint()\n",
    "#q3.solution()"
   ]
  },
  {
   "cell_type": "markdown",
   "id": "37cc3962",
   "metadata": {
    "papermill": {
     "duration": 0.008055,
     "end_time": "2023-07-25T17:50:02.320411",
     "exception": false,
     "start_time": "2023-07-25T17:50:02.312356",
     "status": "completed"
    },
    "tags": []
   },
   "source": [
    "## 4.\n",
    "What are the most expensive wine varieties? Create a variable `sorted_varieties` containing a copy of the dataframe from the previous question where varieties are sorted in descending order based on minimum price, then on maximum price (to break ties)."
   ]
  },
  {
   "cell_type": "code",
   "execution_count": 8,
   "id": "a5575db7",
   "metadata": {
    "execution": {
     "iopub.execute_input": "2023-07-25T17:50:02.338078Z",
     "iopub.status.busy": "2023-07-25T17:50:02.337705Z",
     "iopub.status.idle": "2023-07-25T17:50:02.348510Z",
     "shell.execute_reply": "2023-07-25T17:50:02.347579Z"
    },
    "papermill": {
     "duration": 0.022089,
     "end_time": "2023-07-25T17:50:02.350453",
     "exception": false,
     "start_time": "2023-07-25T17:50:02.328364",
     "status": "completed"
    },
    "tags": []
   },
   "outputs": [
    {
     "data": {
      "application/javascript": [
       "parent.postMessage({\"jupyterEvent\": \"custom.exercise_interaction\", \"data\": {\"outcomeType\": 1, \"valueTowardsCompletion\": 0.16666666666666666, \"interactionType\": 1, \"questionType\": 1, \"questionId\": \"4_SortedVarieties\", \"learnToolsVersion\": \"0.3.4\", \"failureMessage\": \"\", \"exceptionClass\": \"\", \"trace\": \"\"}}, \"*\")"
      ],
      "text/plain": [
       "<IPython.core.display.Javascript object>"
      ]
     },
     "metadata": {},
     "output_type": "display_data"
    },
    {
     "data": {
      "text/markdown": [
       "<span style=\"color:#33cc33\">Correct</span>"
      ],
      "text/plain": [
       "Correct"
      ]
     },
     "metadata": {},
     "output_type": "display_data"
    }
   ],
   "source": [
    "sorted_varieties = price_extremes.sort_values(by=['min', 'max'], ascending=False)\n",
    "\n",
    "# Check your answer\n",
    "q4.check()"
   ]
  },
  {
   "cell_type": "code",
   "execution_count": 9,
   "id": "8daef964",
   "metadata": {
    "execution": {
     "iopub.execute_input": "2023-07-25T17:50:02.366832Z",
     "iopub.status.busy": "2023-07-25T17:50:02.366547Z",
     "iopub.status.idle": "2023-07-25T17:50:02.377759Z",
     "shell.execute_reply": "2023-07-25T17:50:02.376777Z"
    },
    "papermill": {
     "duration": 0.021571,
     "end_time": "2023-07-25T17:50:02.379796",
     "exception": false,
     "start_time": "2023-07-25T17:50:02.358225",
     "status": "completed"
    },
    "tags": []
   },
   "outputs": [
    {
     "data": {
      "application/javascript": [
       "parent.postMessage({\"jupyterEvent\": \"custom.exercise_interaction\", \"data\": {\"interactionType\": 2, \"questionType\": 1, \"questionId\": \"4_SortedVarieties\", \"learnToolsVersion\": \"0.3.4\", \"valueTowardsCompletion\": 0.0, \"failureMessage\": \"\", \"exceptionClass\": \"\", \"trace\": \"\", \"outcomeType\": 4}}, \"*\")"
      ],
      "text/plain": [
       "<IPython.core.display.Javascript object>"
      ]
     },
     "metadata": {},
     "output_type": "display_data"
    },
    {
     "data": {
      "text/markdown": [
       "<span style=\"color:#3366cc\">Hint:</span> Use `sort_values()`, and provide a list of names to sort by."
      ],
      "text/plain": [
       "Hint: Use `sort_values()`, and provide a list of names to sort by."
      ]
     },
     "metadata": {},
     "output_type": "display_data"
    },
    {
     "data": {
      "application/javascript": [
       "parent.postMessage({\"jupyterEvent\": \"custom.exercise_interaction\", \"data\": {\"interactionType\": 3, \"questionType\": 1, \"questionId\": \"4_SortedVarieties\", \"learnToolsVersion\": \"0.3.4\", \"valueTowardsCompletion\": 0.0, \"failureMessage\": \"\", \"exceptionClass\": \"\", \"trace\": \"\", \"outcomeType\": 4}}, \"*\")"
      ],
      "text/plain": [
       "<IPython.core.display.Javascript object>"
      ]
     },
     "metadata": {},
     "output_type": "display_data"
    },
    {
     "data": {
      "text/markdown": [
       "<span style=\"color:#33cc99\">Solution:</span> \n",
       "```python\n",
       "sorted_varieties = price_extremes.sort_values(by=['min', 'max'], ascending=False)\n",
       "```"
      ],
      "text/plain": [
       "Solution: \n",
       "```python\n",
       "sorted_varieties = price_extremes.sort_values(by=['min', 'max'], ascending=False)\n",
       "```"
      ]
     },
     "metadata": {},
     "output_type": "display_data"
    }
   ],
   "source": [
    "q4.hint()\n",
    "q4.solution()"
   ]
  },
  {
   "cell_type": "markdown",
   "id": "1c6c4d27",
   "metadata": {
    "papermill": {
     "duration": 0.008281,
     "end_time": "2023-07-25T17:50:02.396608",
     "exception": false,
     "start_time": "2023-07-25T17:50:02.388327",
     "status": "completed"
    },
    "tags": []
   },
   "source": [
    "## 5.\n",
    "Create a `Series` whose index is reviewers and whose values is the average review score given out by that reviewer. Hint: you will need the `taster_name` and `points` columns."
   ]
  },
  {
   "cell_type": "code",
   "execution_count": 10,
   "id": "d2a82ef9",
   "metadata": {
    "execution": {
     "iopub.execute_input": "2023-07-25T17:50:02.415581Z",
     "iopub.status.busy": "2023-07-25T17:50:02.415243Z",
     "iopub.status.idle": "2023-07-25T17:50:02.447052Z",
     "shell.execute_reply": "2023-07-25T17:50:02.446163Z"
    },
    "papermill": {
     "duration": 0.043591,
     "end_time": "2023-07-25T17:50:02.448900",
     "exception": false,
     "start_time": "2023-07-25T17:50:02.405309",
     "status": "completed"
    },
    "tags": []
   },
   "outputs": [
    {
     "data": {
      "application/javascript": [
       "parent.postMessage({\"jupyterEvent\": \"custom.exercise_interaction\", \"data\": {\"outcomeType\": 1, \"valueTowardsCompletion\": 0.16666666666666666, \"interactionType\": 1, \"questionType\": 1, \"questionId\": \"5_ReviewerMeanRatings\", \"learnToolsVersion\": \"0.3.4\", \"failureMessage\": \"\", \"exceptionClass\": \"\", \"trace\": \"\"}}, \"*\")"
      ],
      "text/plain": [
       "<IPython.core.display.Javascript object>"
      ]
     },
     "metadata": {},
     "output_type": "display_data"
    },
    {
     "data": {
      "text/markdown": [
       "<span style=\"color:#33cc33\">Correct</span>"
      ],
      "text/plain": [
       "Correct"
      ]
     },
     "metadata": {},
     "output_type": "display_data"
    }
   ],
   "source": [
    "reviewer_mean_ratings = reviews.groupby(['taster_name']).points.mean()\n",
    "\n",
    "# Check your answer\n",
    "q5.check()"
   ]
  },
  {
   "cell_type": "code",
   "execution_count": 11,
   "id": "131659a3",
   "metadata": {
    "execution": {
     "iopub.execute_input": "2023-07-25T17:50:02.469010Z",
     "iopub.status.busy": "2023-07-25T17:50:02.468697Z",
     "iopub.status.idle": "2023-07-25T17:50:02.476239Z",
     "shell.execute_reply": "2023-07-25T17:50:02.475318Z"
    },
    "papermill": {
     "duration": 0.020074,
     "end_time": "2023-07-25T17:50:02.478103",
     "exception": false,
     "start_time": "2023-07-25T17:50:02.458029",
     "status": "completed"
    },
    "tags": []
   },
   "outputs": [
    {
     "data": {
      "application/javascript": [
       "parent.postMessage({\"jupyterEvent\": \"custom.exercise_interaction\", \"data\": {\"interactionType\": 2, \"questionType\": 1, \"questionId\": \"5_ReviewerMeanRatings\", \"learnToolsVersion\": \"0.3.4\", \"valueTowardsCompletion\": 0.0, \"failureMessage\": \"\", \"exceptionClass\": \"\", \"trace\": \"\", \"outcomeType\": 4}}, \"*\")"
      ],
      "text/plain": [
       "<IPython.core.display.Javascript object>"
      ]
     },
     "metadata": {},
     "output_type": "display_data"
    },
    {
     "data": {
      "text/markdown": [
       "<span style=\"color:#3366cc\">Hint:</span> Use `mean()`."
      ],
      "text/plain": [
       "Hint: Use `mean()`."
      ]
     },
     "metadata": {},
     "output_type": "display_data"
    }
   ],
   "source": [
    "q5.hint()\n",
    "#q5.solution()"
   ]
  },
  {
   "cell_type": "markdown",
   "id": "182e232f",
   "metadata": {
    "papermill": {
     "duration": 0.00912,
     "end_time": "2023-07-25T17:50:02.496999",
     "exception": false,
     "start_time": "2023-07-25T17:50:02.487879",
     "status": "completed"
    },
    "tags": []
   },
   "source": [
    "Are there significant differences in the average scores assigned by the various reviewers? Run the cell below to use the `describe()` method to see a summary of the range of values."
   ]
  },
  {
   "cell_type": "code",
   "execution_count": 12,
   "id": "adf00449",
   "metadata": {
    "execution": {
     "iopub.execute_input": "2023-07-25T17:50:02.517224Z",
     "iopub.status.busy": "2023-07-25T17:50:02.516819Z",
     "iopub.status.idle": "2023-07-25T17:50:02.528945Z",
     "shell.execute_reply": "2023-07-25T17:50:02.528246Z"
    },
    "papermill": {
     "duration": 0.02418,
     "end_time": "2023-07-25T17:50:02.530601",
     "exception": false,
     "start_time": "2023-07-25T17:50:02.506421",
     "status": "completed"
    },
    "tags": []
   },
   "outputs": [
    {
     "data": {
      "text/plain": [
       "count    19.000000\n",
       "mean     88.233026\n",
       "std       1.243610\n",
       "min      85.855422\n",
       "25%      87.323501\n",
       "50%      88.536235\n",
       "75%      88.975256\n",
       "max      90.562551\n",
       "Name: points, dtype: float64"
      ]
     },
     "execution_count": 12,
     "metadata": {},
     "output_type": "execute_result"
    }
   ],
   "source": [
    "reviewer_mean_ratings.describe()"
   ]
  },
  {
   "cell_type": "markdown",
   "id": "4167bb6b",
   "metadata": {
    "papermill": {
     "duration": 0.009214,
     "end_time": "2023-07-25T17:50:02.549439",
     "exception": false,
     "start_time": "2023-07-25T17:50:02.540225",
     "status": "completed"
    },
    "tags": []
   },
   "source": [
    "## 6.\n",
    "What combination of countries and varieties are most common? Create a `Series` whose index is a `MultiIndex`of `{country, variety}` pairs. For example, a pinot noir produced in the US should map to `{\"US\", \"Pinot Noir\"}`. Sort the values in the `Series` in descending order based on wine count."
   ]
  },
  {
   "cell_type": "code",
   "execution_count": 13,
   "id": "f32ab3df",
   "metadata": {
    "execution": {
     "iopub.execute_input": "2023-07-25T17:50:02.570760Z",
     "iopub.status.busy": "2023-07-25T17:50:02.570101Z",
     "iopub.status.idle": "2023-07-25T17:50:02.630812Z",
     "shell.execute_reply": "2023-07-25T17:50:02.629714Z"
    },
    "papermill": {
     "duration": 0.073875,
     "end_time": "2023-07-25T17:50:02.633224",
     "exception": false,
     "start_time": "2023-07-25T17:50:02.559349",
     "status": "completed"
    },
    "tags": []
   },
   "outputs": [
    {
     "data": {
      "application/javascript": [
       "parent.postMessage({\"jupyterEvent\": \"custom.exercise_interaction\", \"data\": {\"outcomeType\": 1, \"valueTowardsCompletion\": 0.16666666666666666, \"interactionType\": 1, \"questionType\": 1, \"questionId\": \"6_GroupbyCountryVariety\", \"learnToolsVersion\": \"0.3.4\", \"failureMessage\": \"\", \"exceptionClass\": \"\", \"trace\": \"\"}}, \"*\")"
      ],
      "text/plain": [
       "<IPython.core.display.Javascript object>"
      ]
     },
     "metadata": {},
     "output_type": "display_data"
    },
    {
     "data": {
      "text/markdown": [
       "<span style=\"color:#33cc33\">Correct</span>"
      ],
      "text/plain": [
       "Correct"
      ]
     },
     "metadata": {},
     "output_type": "display_data"
    }
   ],
   "source": [
    "country_variety_counts = reviews.groupby(['country', 'variety']).size().sort_values(ascending=False)\n",
    "\n",
    "# Check your answer\n",
    "q6.check()"
   ]
  },
  {
   "cell_type": "code",
   "execution_count": 14,
   "id": "9bf31969",
   "metadata": {
    "execution": {
     "iopub.execute_input": "2023-07-25T17:50:02.654663Z",
     "iopub.status.busy": "2023-07-25T17:50:02.654308Z",
     "iopub.status.idle": "2023-07-25T17:50:02.667221Z",
     "shell.execute_reply": "2023-07-25T17:50:02.666166Z"
    },
    "papermill": {
     "duration": 0.026069,
     "end_time": "2023-07-25T17:50:02.669171",
     "exception": false,
     "start_time": "2023-07-25T17:50:02.643102",
     "status": "completed"
    },
    "tags": []
   },
   "outputs": [
    {
     "data": {
      "application/javascript": [
       "parent.postMessage({\"jupyterEvent\": \"custom.exercise_interaction\", \"data\": {\"interactionType\": 2, \"questionType\": 1, \"questionId\": \"6_GroupbyCountryVariety\", \"learnToolsVersion\": \"0.3.4\", \"valueTowardsCompletion\": 0.0, \"failureMessage\": \"\", \"exceptionClass\": \"\", \"trace\": \"\", \"outcomeType\": 4}}, \"*\")"
      ],
      "text/plain": [
       "<IPython.core.display.Javascript object>"
      ]
     },
     "metadata": {},
     "output_type": "display_data"
    },
    {
     "data": {
      "text/markdown": [
       "<span style=\"color:#3366cc\">Hint:</span> Use `groupby()`, and provide a list of columns to group by.  You may also find `size()` and `sort_values()` to be useful!"
      ],
      "text/plain": [
       "Hint: Use `groupby()`, and provide a list of columns to group by.  You may also find `size()` and `sort_values()` to be useful!"
      ]
     },
     "metadata": {},
     "output_type": "display_data"
    },
    {
     "data": {
      "application/javascript": [
       "parent.postMessage({\"jupyterEvent\": \"custom.exercise_interaction\", \"data\": {\"interactionType\": 3, \"questionType\": 1, \"questionId\": \"6_GroupbyCountryVariety\", \"learnToolsVersion\": \"0.3.4\", \"valueTowardsCompletion\": 0.0, \"failureMessage\": \"\", \"exceptionClass\": \"\", \"trace\": \"\", \"outcomeType\": 4}}, \"*\")"
      ],
      "text/plain": [
       "<IPython.core.display.Javascript object>"
      ]
     },
     "metadata": {},
     "output_type": "display_data"
    },
    {
     "data": {
      "text/markdown": [
       "<span style=\"color:#33cc99\">Solution:</span> \n",
       "```python\n",
       "country_variety_counts = reviews.groupby(['country', 'variety']).size().sort_values(ascending=False)\n",
       "```"
      ],
      "text/plain": [
       "Solution: \n",
       "```python\n",
       "country_variety_counts = reviews.groupby(['country', 'variety']).size().sort_values(ascending=False)\n",
       "```"
      ]
     },
     "metadata": {},
     "output_type": "display_data"
    }
   ],
   "source": [
    "q6.hint()\n",
    "q6.solution()"
   ]
  },
  {
   "cell_type": "markdown",
   "id": "40391edd",
   "metadata": {
    "papermill": {
     "duration": 0.010153,
     "end_time": "2023-07-25T17:50:02.689386",
     "exception": false,
     "start_time": "2023-07-25T17:50:02.679233",
     "status": "completed"
    },
    "tags": []
   },
   "source": [
    "# Keep going\n",
    "\n",
    "Move on to the [**data types and missing data**](https://www.kaggle.com/residentmario/data-types-and-missing-values)."
   ]
  },
  {
   "cell_type": "markdown",
   "id": "470511a3",
   "metadata": {
    "papermill": {
     "duration": 0.010596,
     "end_time": "2023-07-25T17:50:02.710144",
     "exception": false,
     "start_time": "2023-07-25T17:50:02.699548",
     "status": "completed"
    },
    "tags": []
   },
   "source": [
    "---\n",
    "\n",
    "\n",
    "\n",
    "\n",
    "*Have questions or comments? Visit the [course discussion forum](https://www.kaggle.com/learn/pandas/discussion) to chat with other learners.*"
   ]
  }
 ],
 "metadata": {
  "kernelspec": {
   "display_name": "Python 3",
   "language": "python",
   "name": "python3"
  },
  "language_info": {
   "codemirror_mode": {
    "name": "ipython",
    "version": 3
   },
   "file_extension": ".py",
   "mimetype": "text/x-python",
   "name": "python",
   "nbconvert_exporter": "python",
   "pygments_lexer": "ipython3",
   "version": "3.10.12"
  },
  "papermill": {
   "default_parameters": {},
   "duration": 14.073142,
   "end_time": "2023-07-25T17:50:03.541044",
   "environment_variables": {},
   "exception": null,
   "input_path": "__notebook__.ipynb",
   "output_path": "__notebook__.ipynb",
   "parameters": {},
   "start_time": "2023-07-25T17:49:49.467902",
   "version": "2.4.0"
  }
 },
 "nbformat": 4,
 "nbformat_minor": 5
}
